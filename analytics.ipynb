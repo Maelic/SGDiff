{
 "cells": [
  {
   "cell_type": "code",
   "execution_count": 1,
   "metadata": {},
   "outputs": [
    {
     "name": "stderr",
     "output_type": "stream",
     "text": [
      "100%|██████████| 4993/4993 [00:11<00:00, 445.31it/s]\n"
     ]
    },
    {
     "name": "stdout",
     "output_type": "stream",
     "text": [
      "350\n"
     ]
    },
    {
     "ename": "NameError",
     "evalue": "name 'np' is not defined",
     "output_type": "error",
     "traceback": [
      "\u001b[0;31m---------------------------------------------------------------------------\u001b[0m",
      "\u001b[0;31mNameError\u001b[0m                                 Traceback (most recent call last)",
      "\u001b[0;32m/tmp/ipykernel_3738059/3965959176.py\u001b[0m in \u001b[0;36m<module>\u001b[0;34m\u001b[0m\n\u001b[1;32m     59\u001b[0m \u001b[0mh5_file\u001b[0m \u001b[0;34m=\u001b[0m \u001b[0mh5py\u001b[0m\u001b[0;34m.\u001b[0m\u001b[0mFile\u001b[0m\u001b[0;34m(\u001b[0m\u001b[0mh5_path\u001b[0m\u001b[0;34m,\u001b[0m \u001b[0;34m'r'\u001b[0m\u001b[0;34m)\u001b[0m\u001b[0;34m\u001b[0m\u001b[0;34m\u001b[0m\u001b[0m\n\u001b[1;32m     60\u001b[0m \u001b[0;34m\u001b[0m\u001b[0m\n\u001b[0;32m---> 61\u001b[0;31m \u001b[0mrels_count_1\u001b[0m \u001b[0;34m=\u001b[0m \u001b[0mextract_rels\u001b[0m\u001b[0;34m(\u001b[0m\u001b[0mh5_file\u001b[0m\u001b[0;34m,\u001b[0m \u001b[0mcategories\u001b[0m\u001b[0;34m,\u001b[0m \u001b[0mvocab\u001b[0m\u001b[0;34m)\u001b[0m\u001b[0;34m\u001b[0m\u001b[0;34m\u001b[0m\u001b[0m\n\u001b[0m\u001b[1;32m     62\u001b[0m \u001b[0;34m\u001b[0m\u001b[0m\n\u001b[1;32m     63\u001b[0m \u001b[0mh5_path\u001b[0m \u001b[0;34m=\u001b[0m \u001b[0;34m\"/home/maelic/Documents/SGDiff/datasets/pred_transformers_intrinsic.h5\"\u001b[0m\u001b[0;34m\u001b[0m\u001b[0;34m\u001b[0m\u001b[0m\n",
      "\u001b[0;32m/tmp/ipykernel_3738059/3965959176.py\u001b[0m in \u001b[0;36mextract_rels\u001b[0;34m(h5_file, categories, vocab)\u001b[0m\n\u001b[1;32m     51\u001b[0m \u001b[0;34m\u001b[0m\u001b[0m\n\u001b[1;32m     52\u001b[0m     \u001b[0mprint\u001b[0m\u001b[0;34m(\u001b[0m\u001b[0mnum_ood_rel\u001b[0m\u001b[0;34m)\u001b[0m\u001b[0;34m\u001b[0m\u001b[0;34m\u001b[0m\u001b[0m\n\u001b[0;32m---> 53\u001b[0;31m     \u001b[0munique\u001b[0m\u001b[0;34m,\u001b[0m \u001b[0mcounts\u001b[0m \u001b[0;34m=\u001b[0m \u001b[0mnp\u001b[0m\u001b[0;34m.\u001b[0m\u001b[0munique\u001b[0m\u001b[0;34m(\u001b[0m\u001b[0mrelations\u001b[0m\u001b[0;34m,\u001b[0m \u001b[0mreturn_counts\u001b[0m\u001b[0;34m=\u001b[0m\u001b[0;32mTrue\u001b[0m\u001b[0;34m)\u001b[0m\u001b[0;34m\u001b[0m\u001b[0;34m\u001b[0m\u001b[0m\n\u001b[0m\u001b[1;32m     54\u001b[0m     \u001b[0mprint\u001b[0m\u001b[0;34m(\u001b[0m\u001b[0mdict\u001b[0m\u001b[0;34m(\u001b[0m\u001b[0mzip\u001b[0m\u001b[0;34m(\u001b[0m\u001b[0munique\u001b[0m\u001b[0;34m,\u001b[0m \u001b[0mcounts\u001b[0m\u001b[0;34m)\u001b[0m\u001b[0;34m)\u001b[0m\u001b[0;34m)\u001b[0m\u001b[0;34m\u001b[0m\u001b[0;34m\u001b[0m\u001b[0m\n\u001b[1;32m     55\u001b[0m \u001b[0;34m\u001b[0m\u001b[0m\n",
      "\u001b[0;31mNameError\u001b[0m: name 'np' is not defined"
     ]
    }
   ],
   "source": [
    "import h5py\n",
    "import json\n",
    "from tqdm import tqdm\n",
    "\n",
    "categories = json.load(open('/home/maelic/Documents/Scene-Graph-Benchmark-Cuda11.7/rel_pruning/VG178/categories.json', 'r'))\n",
    "\n",
    "vocab = \"/home/maelic/Documents/SGDiff/datasets/vg/vocab.json\"\n",
    "vocab = json.load(open(vocab, 'r'))\n",
    "\n",
    "def extract_rels(h5_file, categories, vocab):\n",
    "    CLASSES = list(vocab['object_idx_to_name'])\n",
    "    REL_CLASSES = list(vocab['pred_idx_to_name'])\n",
    "    relations = []\n",
    "\n",
    "    num_ood_rel = 0\n",
    "    for i in tqdm(range(len(h5_file['image_ids']))):\n",
    "        img_id = h5_file['image_ids'][i]\n",
    "        img_path = h5_file['image_paths'][i]\n",
    "        attributes_per_object = h5_file['attributes_per_object'][i]\n",
    "        object_attributes = h5_file['object_attributes'][i]\n",
    "        object_boxes = h5_file['object_boxes'][i]\n",
    "        object_ids = h5_file['object_ids'][i]\n",
    "        object_names = h5_file['object_names'][i]\n",
    "        objects_per_image = h5_file['objects_per_image'][i]\n",
    "        relationship_ids = h5_file['relationship_ids'][i]\n",
    "        relationship_objects = h5_file['relationship_objects'][i]\n",
    "        relationship_predicates = h5_file['relationship_predicates'][i]\n",
    "        relationship_subjects = h5_file['relationship_subjects'][i]\n",
    "        relationships_per_image = h5_file['relationships_per_image'][i]\n",
    "\n",
    "        # get all objects\n",
    "        objects = {}\n",
    "        for j in range(objects_per_image):\n",
    "            obj_id = object_ids[j]\n",
    "            obj_name = CLASSES[object_names[j]]\n",
    "            obj_box = object_boxes[j]\n",
    "            obj_attributes = attributes_per_object[j]\n",
    "            objects[j] = {\"name\": obj_name, \"box\": obj_box, \"attributes\": obj_attributes}\n",
    "\n",
    "        # get all relations\n",
    "        for j in range(relationships_per_image):\n",
    "            rel_id = relationship_ids[j]\n",
    "            rel_pred = REL_CLASSES[relationship_predicates[j]]\n",
    "            rel_subj = objects[relationship_subjects[j]]['name']\n",
    "            rel_obj = objects[relationship_objects[j]]['name']\n",
    "            full_rel = str(rel_subj) + \" \" + str(rel_pred) + \" \" + str(rel_obj)\n",
    "            if full_rel in categories:\n",
    "                relations.append(categories[full_rel])\n",
    "            else:\n",
    "                num_ood_rel += 1\n",
    "\n",
    "    print(num_ood_rel)\n",
    "    unique, counts = np.unique(relations, return_counts=True)\n",
    "    print(dict(zip(unique, counts)))\n",
    "\n",
    "    return dict(zip(unique, counts))\n",
    "\n",
    "h5_path = \"/home/maelic/Documents/SGDiff/datasets/pred_transformers.h5\"\n",
    "h5_file = h5py.File(h5_path, 'r')\n",
    "\n",
    "rels_count_1 = extract_rels(h5_file, categories, vocab)\n",
    "\n",
    "h5_path = \"/home/maelic/Documents/SGDiff/datasets/pred_transformers_intrinsic.h5\"\n",
    "h5_file = h5py.File(h5_path, 'r')\n",
    "\n",
    "rels_count_2 = extract_rels(h5_file, categories, vocab)"
   ]
  },
  {
   "cell_type": "code",
   "execution_count": null,
   "metadata": {},
   "outputs": [],
   "source": [
    "# display rels_count_1 and rels_count_2 as pie charts side by side using seaborn\n",
    "\n",
    "import matplotlib.pyplot as plt\n",
    "import seaborn as sns\n",
    "import pandas as pd\n",
    "\n",
    "df = pd.DataFrame.from_dict(rels_count_1, orient='index', columns=['count'])\n",
    "# transform count in relative percentage\n",
    "df['count'] = df['count'] / df['count'].sum()\n",
    "df['Model'] = 'Transformer'\n",
    "\n",
    "df2 = pd.DataFrame.from_dict(rels_count_2, orient='index', columns=['count'])\n",
    "df2['count'] = df2['count'] / df2['count'].sum()\n",
    "\n",
    "df2['Model'] = 'Transformer_informative'\n",
    "\n",
    "df = pd.concat([df, df2])\n",
    "\n",
    "df = df.reset_index()\n",
    "df = df.rename(columns={'index':'relation'})\n",
    "\n",
    "df['relation'] = df['relation'].str.replace(' ', '\\n')\n",
    "\n",
    "sns.set_theme(style=\"whitegrid\")\n",
    "sns.set(rc={'figure.figsize':(11.7,8.27)})\n",
    "\n",
    "ax = sns.barplot(x=\"relation\", y=\"count\", hue=\"Model\", data=df)\n",
    "# plot numbers on top of bars\n",
    "for p in ax.patches:\n",
    "    height = p.get_height()\n",
    "    ax.text(p.get_x()+p.get_width()/2.,\n",
    "            height + 0.01,\n",
    "            '{:1.2f}'.format(height),\n",
    "            ha=\"center\")\n",
    "ax.set_xlabel(\"Category\")\n",
    "ax.set_ylabel(\"Count\")\n",
    "plt.xticks()\n",
    "plt.show()"
   ]
  },
  {
   "cell_type": "code",
   "execution_count": null,
   "metadata": {},
   "outputs": [],
   "source": [
    "# plot pie chart of relations\n",
    "\n",
    "import matplotlib.pyplot as plt\n",
    "import numpy as np\n",
    "\n",
    "counts, unique = rels_count_1.values(), rels_count_1.keys()\n",
    "plt.pie(counts, labels=unique, autopct='%1.1f%%', startangle=140)\n",
    "plt.axis('equal')\n",
    "plt.show()"
   ]
  },
  {
   "cell_type": "code",
   "execution_count": 12,
   "metadata": {},
   "outputs": [
    {
     "name": "stdout",
     "output_type": "stream",
     "text": [
      "<KeysViewHDF5 ['attributes_per_object', 'image_ids', 'image_paths', 'object_attributes', 'object_boxes', 'object_ids', 'object_names', 'objects_per_image', 'relationship_ids', 'relationship_objects', 'relationship_predicates', 'relationship_subjects', 'relationships_per_image']>\n"
     ]
    },
    {
     "name": "stderr",
     "output_type": "stream",
     "text": [
      "  0%|          | 0/5096 [00:00<?, ?it/s]"
     ]
    },
    {
     "name": "stderr",
     "output_type": "stream",
     "text": [
      "100%|██████████| 5096/5096 [00:36<00:00, 140.81it/s]"
     ]
    },
    {
     "name": "stdout",
     "output_type": "stream",
     "text": [
      "103\n"
     ]
    },
    {
     "name": "stderr",
     "output_type": "stream",
     "text": [
      "\n"
     ]
    }
   ],
   "source": [
    "import h5py\n",
    "import numpy as np\n",
    "from tqdm import tqdm\n",
    "\n",
    "test_path = \"/home/maelic/Documents/SGDiff/datasets/vg/test.h5\"\n",
    "\n",
    "test_data = h5py.File(test_path, 'r')\n",
    "print(test_data.keys()) \n",
    "\n",
    "generated_path = \"/home/maelic/Documents/SGDiff/datasets/custom_pred_top5_intrinsic.h5\"\n",
    "custom_data = h5py.File(generated_path, 'r')\n",
    "\n",
    "# get all image_ids from test_data not in custom_data\n",
    "image_ids = []\n",
    "for i, image_id in enumerate(tqdm(test_data['image_ids'])):\n",
    "    if image_id not in custom_data['image_ids']:\n",
    "        image_ids.append(i)\n",
    "\n",
    "print(len(image_ids))"
   ]
  },
  {
   "cell_type": "code",
   "execution_count": 13,
   "metadata": {},
   "outputs": [
    {
     "name": "stdout",
     "output_type": "stream",
     "text": [
      "[41, 97, 127, 155, 200, 207, 259, 305, 308, 313, 346, 349, 497, 557, 562, 615, 644, 683, 698, 813, 847, 895, 943, 1014, 1123, 1222, 1289, 1304, 1325, 1343, 1549, 1621, 1627, 1697, 1709, 1712, 1751, 1824, 2109, 2141, 2171, 2185, 2304, 2310, 2321, 2405, 2407, 2470, 2483, 2493, 2728, 2748, 2781, 2783, 2811, 2845, 2879, 2889, 2906, 2929, 2938, 2965, 2993, 3043, 3102, 3212, 3247, 3354, 3396, 3449, 3524, 3576, 3595, 3600, 3622, 3626, 3727, 3756, 3787, 3809, 3954, 4008, 4078, 4091, 4153, 4217, 4244, 4251, 4324, 4372, 4514, 4531, 4658, 4740, 4778, 4871, 4956, 4966, 4974, 4975, 4982, 5050, 5061]\n"
     ]
    }
   ],
   "source": [
    "print(image_ids)"
   ]
  },
  {
   "cell_type": "code",
   "execution_count": 16,
   "metadata": {},
   "outputs": [
    {
     "name": "stdout",
     "output_type": "stream",
     "text": [
      "41_graph.png\n",
      "97_graph.png\n",
      "127_graph.png\n",
      "155_graph.png\n",
      "200_graph.png\n",
      "207_graph.png\n",
      "259_graph.png\n",
      "305_graph.png\n",
      "308_graph.png\n",
      "313_graph.png\n",
      "346_graph.png\n",
      "349_graph.png\n",
      "497_graph.png\n",
      "557_graph.png\n",
      "562_graph.png\n",
      "615_graph.png\n",
      "644_graph.png\n",
      "683_graph.png\n",
      "698_graph.png\n",
      "813_graph.png\n",
      "847_graph.png\n",
      "895_graph.png\n",
      "943_graph.png\n",
      "1014_graph.png\n",
      "1123_graph.png\n",
      "1222_graph.png\n",
      "1289_graph.png\n",
      "1304_graph.png\n",
      "1325_graph.png\n",
      "1343_graph.png\n",
      "1549_graph.png\n",
      "1621_graph.png\n",
      "1627_graph.png\n",
      "1697_graph.png\n",
      "1709_graph.png\n",
      "1712_graph.png\n",
      "1751_graph.png\n",
      "1824_graph.png\n",
      "2109_graph.png\n",
      "2141_graph.png\n",
      "2171_graph.png\n",
      "2185_graph.png\n",
      "2304_graph.png\n",
      "2310_graph.png\n",
      "2321_graph.png\n",
      "2405_graph.png\n",
      "2407_graph.png\n",
      "2470_graph.png\n",
      "2483_graph.png\n",
      "2493_graph.png\n",
      "2728_graph.png\n",
      "2748_graph.png\n",
      "2781_graph.png\n",
      "2783_graph.png\n",
      "2811_graph.png\n",
      "2845_graph.png\n",
      "2879_graph.png\n",
      "2889_graph.png\n",
      "2906_graph.png\n",
      "2929_graph.png\n",
      "2938_graph.png\n",
      "2965_graph.png\n",
      "2993_graph.png\n",
      "3043_graph.png\n",
      "3102_graph.png\n",
      "3212_graph.png\n",
      "3247_graph.png\n",
      "3354_graph.png\n",
      "3396_graph.png\n",
      "3449_graph.png\n",
      "3524_graph.png\n",
      "3576_graph.png\n",
      "3595_graph.png\n",
      "3600_graph.png\n",
      "3622_graph.png\n",
      "3626_graph.png\n",
      "3727_graph.png\n",
      "3756_graph.png\n",
      "3787_graph.png\n",
      "3809_graph.png\n",
      "3954_graph.png\n",
      "4008_graph.png\n",
      "4078_graph.png\n",
      "4091_graph.png\n",
      "4153_graph.png\n",
      "4217_graph.png\n",
      "4244_graph.png\n",
      "4251_graph.png\n",
      "4324_graph.png\n",
      "4372_graph.png\n",
      "4514_graph.png\n",
      "4531_graph.png\n",
      "4658_graph.png\n",
      "4740_graph.png\n",
      "4778_graph.png\n",
      "4871_graph.png\n",
      "4956_graph.png\n",
      "4966_graph.png\n",
      "4974_graph.png\n",
      "4975_graph.png\n",
      "4982_graph.png\n",
      "5050_graph.png\n",
      "5061_graph.png\n"
     ]
    }
   ],
   "source": [
    "source = \"/home/maelic/Documents/SGDiff/test_results_baseline/scene_graph/\"\n",
    "import os\n",
    "\n",
    "files = os.listdir(source)\n",
    "\n",
    "# get files in order\n",
    "files = sorted(files, key=lambda x: int(x.split('_')[0]))\n",
    "\n",
    "for i in image_ids:\n",
    "    print(files[i])\n",
    "    # remove file\n",
    "    os.remove(source + files[i])"
   ]
  },
  {
   "cell_type": "code",
   "execution_count": 6,
   "metadata": {},
   "outputs": [],
   "source": [
    "source = \"/home/maelic/Documents/SGDiff/test_set_motifs_intrinsic_only/gt_img/\"\n",
    "import os\n",
    "\n",
    "files = os.listdir(source)\n",
    "\n",
    "# get files in order\n",
    "files = sorted(files, key=lambda x: int(x.split('_')[0]))\n",
    "\n",
    "for f in files[:1000]:\n",
    "    # remove file\n",
    "    os.remove(source + f)"
   ]
  },
  {
   "cell_type": "code",
   "execution_count": 3,
   "metadata": {},
   "outputs": [],
   "source": [
    "# copy first 100 files from one folder to the other\n",
    "source = '/home/maelic/Documents/SGDiff/test_set_motifs_intrinsic_only/img'\n",
    "dest = '/home/maelic/Documents/SGDiff/comparison/to_test/'\n",
    "\n",
    "import os\n",
    "import shutil\n",
    "\n",
    "files = os.listdir(source)\n",
    "\n",
    "# get files in order\n",
    "files = sorted(files, key=lambda x: int(x.split('_')[0]))\n",
    "\n",
    "for f in files[:1000]:\n",
    "    shutil.copy(source + '/' + f, dest + '/' + f)\n"
   ]
  },
  {
   "cell_type": "code",
   "execution_count": 29,
   "metadata": {},
   "outputs": [
    {
     "name": "stdout",
     "output_type": "stream",
     "text": [
      "1000\n",
      "1000\n"
     ]
    }
   ],
   "source": [
    "source = '/home/maelic/Documents/SGDiff/test_set_motifs_intrinsic/temp/gt_img'\n",
    "dest = '/home/maelic/Documents/SGDiff/test_set_motifs_intrinsic/temp/img_intrins'\n",
    "dest = '/home/maelic/Documents/SGDiff/test_set_motifs_intrinsic/temp/img_baseline'\n",
    "\n",
    "\n",
    "# compare names in both folders and verify it's the same\n",
    "files1 = os.listdir(source)\n",
    "files2 = os.listdir(dest)\n",
    "files1.sort()\n",
    "files2.sort()\n",
    "\n",
    "# check length equal\n",
    "print(len(files1))\n",
    "print(len(files2))\n",
    "assert len(files1) == len(files2)\n",
    "\n",
    "for i in range(len(files1)):\n",
    "    if files1[i] != files2[i]:\n",
    "        print('error')\n",
    "        break"
   ]
  },
  {
   "cell_type": "code",
   "execution_count": 9,
   "metadata": {},
   "outputs": [
    {
     "name": "stdout",
     "output_type": "stream",
     "text": [
      "13\n"
     ]
    }
   ],
   "source": [
    "import h5py\n",
    "import numpy as np\n",
    "\n",
    "# Load the data\n",
    "dat_path = \"/home/maelic/Documents/SGDiff/datasets/vg/test.h5\"\n",
    "dat = h5py.File(dat_path, 'r')\n",
    "\n",
    "print(len(dat))"
   ]
  },
  {
   "cell_type": "code",
   "execution_count": 13,
   "metadata": {},
   "outputs": [],
   "source": [
    "imgs = dat['image_paths']\n",
    "\n",
    "with open(\"test.txt\", \"w\") as f:\n",
    "    for i in range(len(imgs)):\n",
    "        # decode line in utf 8\n",
    "        img = imgs[i].decode(\"utf-8\")\n",
    "        f.write(str(img) + \"\\n\")"
   ]
  },
  {
   "cell_type": "code",
   "execution_count": 14,
   "metadata": {},
   "outputs": [],
   "source": [
    "import shutil\n",
    "import os\n",
    "\n",
    "img_folder = \"/home/maelic/Documents/Datasets/VG/VG_100K/\"\n",
    "dest_folder = \"/home/maelic/Documents/Datasets/VG/VG_100K_test/\"\n",
    "# create destination folder\n",
    "if not os.path.exists(dest_folder):\n",
    "    os.makedirs(dest_folder)\n",
    "for img in imgs:\n",
    "    img = img.decode(\"utf-8\")\n",
    "    img_path = img_folder + img\n",
    "    # copy to destination\n",
    "    dest_path = dest_folder + img\n",
    "    shutil.copyfile(img_path, dest_path)"
   ]
  },
  {
   "cell_type": "code",
   "execution_count": 8,
   "metadata": {},
   "outputs": [
    {
     "name": "stdout",
     "output_type": "stream",
     "text": [
      "<KeysViewHDF5 ['attributes_per_object', 'image_ids', 'image_paths', 'object_attributes', 'object_boxes', 'object_ids', 'object_names', 'objects_per_image', 'relationship_ids', 'relationship_objects', 'relationship_predicates', 'relationship_subjects', 'relationships_per_image']>\n",
      "[-1 -1 -1 -1 -1 -1 -1 -1 -1 -1 -1 -1 -1 -1 -1 -1 -1 -1 -1 -1 -1 -1 -1 -1\n",
      " -1 -1 -1 -1 -1 -1]\n",
      "b'2342709'\n",
      "b'2342709.jpg'\n",
      "[-1 -1 -1 -1 -1 -1 -1 -1 -1 -1 -1 -1 -1 -1 -1 -1 -1 -1 -1 -1 -1 -1 -1 -1\n",
      " -1 -1 -1 -1 -1 -1]\n",
      "[[ 39 122 401 223]\n",
      " [ 84  16 637 157]\n",
      " [530 152 989 317]\n",
      " [  0 189 985 576]\n",
      " [508 313 982 487]\n",
      " [ 77 105 500 325]\n",
      " [ 17 334 513 401]\n",
      " [408 376 961 444]\n",
      " [153 397 953 570]\n",
      " [ 14 118 879 266]\n",
      " [ -1  -1  -1  -1]\n",
      " [ -1  -1  -1  -1]\n",
      " [ -1  -1  -1  -1]\n",
      " [ -1  -1  -1  -1]\n",
      " [ -1  -1  -1  -1]\n",
      " [ -1  -1  -1  -1]\n",
      " [ -1  -1  -1  -1]\n",
      " [ -1  -1  -1  -1]\n",
      " [ -1  -1  -1  -1]\n",
      " [ -1  -1  -1  -1]\n",
      " [ -1  -1  -1  -1]\n",
      " [ -1  -1  -1  -1]\n",
      " [ -1  -1  -1  -1]\n",
      " [ -1  -1  -1  -1]\n",
      " [ -1  -1  -1  -1]\n",
      " [ -1  -1  -1  -1]\n",
      " [ -1  -1  -1  -1]\n",
      " [ -1  -1  -1  -1]\n",
      " [ -1  -1  -1  -1]\n",
      " [ -1  -1  -1  -1]]\n",
      "[634 635 636 637 638 639 640 641 642 643  -1  -1  -1  -1  -1  -1  -1  -1\n",
      "  -1  -1  -1  -1  -1  -1  -1  -1  -1  -1  -1  -1]\n",
      "[ 93 169  93 169  93  93  93  93 169  93  -1  -1  -1  -1  -1  -1  -1  -1\n",
      "  -1  -1  -1  -1  -1  -1  -1  -1  -1  -1  -1  -1]\n",
      "10\n",
      "[590 591 592 593 594 595 596 597 598 599  -1  -1  -1  -1  -1  -1  -1  -1\n",
      "  -1  -1  -1  -1  -1  -1  -1  -1  -1  -1  -1  -1]\n",
      "[ 0  2  2  4  5  6  0  7  7  9 -1 -1 -1 -1 -1 -1 -1 -1 -1 -1 -1 -1 -1 -1\n",
      " -1 -1 -1 -1 -1 -1]\n",
      "[ 9  9  9  9  9  9  9  9  9  9 -1 -1 -1 -1 -1 -1 -1 -1 -1 -1 -1 -1 -1 -1\n",
      " -1 -1 -1 -1 -1 -1]\n",
      "[ 1  1  3  3  1  3  3  8  3  3 -1 -1 -1 -1 -1 -1 -1 -1 -1 -1 -1 -1 -1 -1\n",
      " -1 -1 -1 -1 -1 -1]\n",
      "10\n"
     ]
    }
   ],
   "source": [
    "print(dat.keys())\n",
    "\n",
    "for d in dat.keys():\n",
    "    print(dat[d][59])"
   ]
  },
  {
   "cell_type": "code",
   "execution_count": 3,
   "metadata": {},
   "outputs": [
    {
     "name": "stdout",
     "output_type": "stream",
     "text": [
      "62565\n"
     ]
    }
   ],
   "source": [
    "print(len(dat['image_ids']))"
   ]
  }
 ],
 "metadata": {
  "kernelspec": {
   "display_name": "phd",
   "language": "python",
   "name": "python3"
  },
  "language_info": {
   "codemirror_mode": {
    "name": "ipython",
    "version": 3
   },
   "file_extension": ".py",
   "mimetype": "text/x-python",
   "name": "python",
   "nbconvert_exporter": "python",
   "pygments_lexer": "ipython3",
   "version": "3.7.12"
  }
 },
 "nbformat": 4,
 "nbformat_minor": 2
}
